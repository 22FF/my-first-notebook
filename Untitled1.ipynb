{
 "cells": [
  {
   "cell_type": "code",
   "execution_count": 1,
   "metadata": {
    "collapsed": true
   },
   "outputs": [],
   "source": [
    "#2、用递归和非递归分别实现函数求1!+2!+3!+...+n!，主程序以n=10分别调用。"
   ]
  },
  {
   "cell_type": "code",
   "execution_count": 12,
   "metadata": {
    "collapsed": false
   },
   "outputs": [
    {
     "ename": "TypeError",
     "evalue": "unsupported operand type(s) for +=: 'int' and 'NoneType'",
     "output_type": "error",
     "traceback": [
      "\u001b[0;31m---------------------------------------------------------------------------\u001b[0m",
      "\u001b[0;31mTypeError\u001b[0m                                 Traceback (most recent call last)",
      "\u001b[0;32m<ipython-input-12-bf5a1a22cf8f>\u001b[0m in \u001b[0;36m<module>\u001b[0;34m()\u001b[0m\n\u001b[1;32m     11\u001b[0m         \u001b[1;32mreturn\u001b[0m \u001b[0mji\u001b[0m\u001b[1;33m\u001b[0m\u001b[0m\n\u001b[1;32m     12\u001b[0m \u001b[1;33m\u001b[0m\u001b[0m\n\u001b[0;32m---> 13\u001b[0;31m \u001b[0msum\u001b[0m\u001b[1;33m(\u001b[0m\u001b[1;36m10\u001b[0m\u001b[1;33m)\u001b[0m\u001b[1;33m\u001b[0m\u001b[0m\n\u001b[0m",
      "\u001b[0;32m<ipython-input-12-bf5a1a22cf8f>\u001b[0m in \u001b[0;36msum\u001b[0;34m(n)\u001b[0m\n\u001b[1;32m      2\u001b[0m     \u001b[0mtotal\u001b[0m \u001b[1;33m=\u001b[0m \u001b[1;36m0\u001b[0m\u001b[1;33m\u001b[0m\u001b[0m\n\u001b[1;32m      3\u001b[0m     \u001b[1;32mfor\u001b[0m \u001b[0mi\u001b[0m \u001b[1;32min\u001b[0m \u001b[0mrange\u001b[0m\u001b[1;33m(\u001b[0m\u001b[0mn\u001b[0m\u001b[1;33m)\u001b[0m\u001b[1;33m:\u001b[0m\u001b[1;33m\u001b[0m\u001b[0m\n\u001b[0;32m----> 4\u001b[0;31m         \u001b[0mtotal\u001b[0m \u001b[1;33m+=\u001b[0m \u001b[0mji\u001b[0m\u001b[1;33m(\u001b[0m\u001b[0mi\u001b[0m\u001b[1;33m)\u001b[0m\u001b[1;33m\u001b[0m\u001b[0m\n\u001b[0m\u001b[1;32m      5\u001b[0m \u001b[1;33m\u001b[0m\u001b[0m\n\u001b[1;32m      6\u001b[0m \u001b[1;32mdef\u001b[0m \u001b[0mji\u001b[0m\u001b[1;33m(\u001b[0m\u001b[0mnum\u001b[0m\u001b[1;33m)\u001b[0m\u001b[1;33m:\u001b[0m\u001b[1;33m\u001b[0m\u001b[0m\n",
      "\u001b[0;31mTypeError\u001b[0m: unsupported operand type(s) for +=: 'int' and 'NoneType'"
     ]
    }
   ],
   "source": [
    "def sum(n):\n",
    "    total = 0\n",
    "    for i in range(n+1):\n",
    "        total += ji(i+1)      \n",
    "\n",
    "def ji(num):\n",
    "    ji = 0\n",
    "    for i in range(num):\n",
    "        ji *= i+1\n",
    "        print(ji)\n",
    "        return ji\n",
    "    \n",
    "sum(10)"
   ]
  },
  {
   "cell_type": "code",
   "execution_count": 11,
   "metadata": {
    "collapsed": false
   },
   "outputs": [
    {
     "name": "stdout",
     "output_type": "stream",
     "text": [
      "0\n"
     ]
    },
    {
     "data": {
      "text/plain": [
       "0"
      ]
     },
     "execution_count": 11,
     "metadata": {},
     "output_type": "execute_result"
    }
   ],
   "source": [
    "def ji(num):\n",
    "    ji = 0\n",
    "    for i in range(num):\n",
    "        ji *= (i+1)\n",
    "        print(ji)\n",
    "        return ji\n",
    "ji(10 )"
   ]
  },
  {
   "cell_type": "code",
   "execution_count": 20,
   "metadata": {
    "collapsed": false
   },
   "outputs": [
    {
     "name": "stdout",
     "output_type": "stream",
     "text": [
      "4037914\n"
     ]
    }
   ],
   "source": [
    "\n",
    "def sum(n):\n",
    "    total = 0\n",
    "    for i in range(n+1):\n",
    "        total += compute_cheng(i)\n",
    "        \n",
    "    print(total)\n",
    "\n",
    "def compute_cheng(end):\n",
    "    i = 0\n",
    "    total_n = 1\n",
    "    while i < end:\n",
    "        i += 1\n",
    "        total_n *= i\n",
    "    return total_n\n",
    "\n",
    "\n",
    "sum(10)"
   ]
  },
  {
   "cell_type": "code",
   "execution_count": 42,
   "metadata": {
    "collapsed": false
   },
   "outputs": [
    {
     "ename": "SyntaxError",
     "evalue": "invalid syntax (<ipython-input-42-482805c36f8f>, line 16)",
     "output_type": "error",
     "traceback": [
      "\u001b[0;36m  File \u001b[0;32m\"<ipython-input-42-482805c36f8f>\"\u001b[0;36m, line \u001b[0;32m16\u001b[0m\n\u001b[0;31m    while a =='I'|| a=='O':\u001b[0m\n\u001b[0m                  ^\u001b[0m\n\u001b[0;31mSyntaxError\u001b[0m\u001b[0;31m:\u001b[0m invalid syntax\n"
     ]
    }
   ],
   "source": [
    "#3、北京车牌号的一般形式为：“京X-YYYYY”，其中X为字母，Y为字母或者数字，\n",
    "#字母不能为I或者O，数字只能0-9之间。\n",
    "#请编写程序模拟选号过程：一次可以随机生成10个车牌号（不能有重复），\n",
    "#依次将其编号为0-9，显示给用户。（20分）\n",
    "\n",
    "import random\n",
    "\n",
    "def number():\n",
    "    a = chr(random.randint(65,90))\n",
    "    b = random.randint(0,9)\n",
    "    c = random.randint(0,9)\n",
    "    d = random.randint(0,9)\n",
    "    e = random.randint(0,9)\n",
    "    f = random.randint(0,9)\n",
    "    \n",
    "    while a =='I'|| a=='O':\n",
    "        a = chr(random.randint(65,90))\n",
    "        if a!='I'&&a!='O':\n",
    "            break\n",
    "        \n",
    "    print('   车牌号为：','京',a, '-', b, c, d, e, f,sep = '')\n",
    "    \n",
    "for i in range(10):\n",
    "    print('编号为:',i,end = '')\n",
    "    number()\n"
   ]
  },
  {
   "cell_type": "code",
   "execution_count": 44,
   "metadata": {
    "collapsed": false
   },
   "outputs": [
    {
     "name": "stdout",
     "output_type": "stream",
     "text": [
      "please enter number of the words : 1\n",
      "please enter a word1\n",
      "please enter the word you want to find : 1\n",
      "the position of  1 is  1\n"
     ]
    }
   ],
   "source": [
    "#4、两个向量间的距离可定义为两个向量间的夹角余弦值，给定三个向量，求向量间距离的最小值。\n",
    "#三个向量为：[1,2,3,4],[4,5,6,7],[7,8,9,10]（20分）\n",
    "\n",
    "def findset(word,numbers):\n",
    "    if word not in numbers:\n",
    "        return -1\n",
    "    else:\n",
    "        k=0\n",
    "        for i in numbers:\n",
    "            k+=1\n",
    "            if word==i:\n",
    "                break;\n",
    "        print(\"the position of \",word,\"is \",k)\n",
    "        \n",
    "words = []\n",
    "n = int(input('please enter number of the words : '))\n",
    "for i in range(n):\n",
    "    word = input('please enter a word')\n",
    "    words.append(word)\n",
    "word=input(\"please enter the word you want to find : \")\n",
    "findset(word,words)"
   ]
  },
  {
   "cell_type": "code",
   "execution_count": null,
   "metadata": {
    "collapsed": true
   },
   "outputs": [],
   "source": []
  }
 ],
 "metadata": {
  "kernelspec": {
   "display_name": "Python 3",
   "language": "python",
   "name": "python3"
  },
  "language_info": {
   "codemirror_mode": {
    "name": "ipython",
    "version": 3
   },
   "file_extension": ".py",
   "mimetype": "text/x-python",
   "name": "python",
   "nbconvert_exporter": "python",
   "pygments_lexer": "ipython3",
   "version": "3.6.0"
  }
 },
 "nbformat": 4,
 "nbformat_minor": 2
}
