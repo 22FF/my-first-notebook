{
 "cells": [
  {
   "cell_type": "code",
   "execution_count": 4,
   "metadata": {
    "collapsed": false
   },
   "outputs": [
    {
     "name": "stdout",
     "output_type": "stream",
     "text": [
      "plz enter your symbol: *\n",
      "plz enter your number: 5\n",
      "    * \n",
      "   * * \n",
      "  * * * \n",
      " * * * * \n",
      "* * * * * \n",
      " * * * * \n",
      "  * * * \n",
      "   * * \n",
      "    * \n"
     ]
    }
   ],
   "source": [
    "#1、写函数，给定符号和行数，如’*’，5，可打印相应行数的如下菱形。\n",
    "#主程序输入符号和行数调用该函数进行验证。（20分）\n",
    "\n",
    "def main(sym, num):\n",
    "    for i in range(num):\n",
    "        print(((num-1-i)*' ')+((sym+' ') * (i+1)))\n",
    "    for i in range(num,1,-1):\n",
    "        print((num+1-i)*' ' + (sym+' ')*(i-1))\n",
    "\n",
    "sym = input('plz enter your symbol: ')\n",
    "num = int(input('plz enter your number: '))\n",
    "main(sym, num)"
   ]
  },
  {
   "cell_type": "code",
   "execution_count": 10,
   "metadata": {
    "collapsed": false
   },
   "outputs": [
    {
     "name": "stdout",
     "output_type": "stream",
     "text": [
      "4037913\n"
     ]
    }
   ],
   "source": [
    "#2、用递归和非递归分别实现函数求1!+2!+3!+...+n!，主程序以n=10分别调用。（20分）\n",
    "def sum(n):\n",
    "    total = 0\n",
    "    for i in range(n):\n",
    "        total += compute_cheng(i+1)\n",
    "        \n",
    "    print(total)\n",
    "\n",
    "def compute_cheng(end):\n",
    "    i = 0\n",
    "    total_n = 1\n",
    "    while i < end:\n",
    "        i += 1\n",
    "        total_n *= i\n",
    "    return total_n\n",
    "\n",
    "\n",
    "sum(10)"
   ]
  },
  {
   "cell_type": "code",
   "execution_count": 9,
   "metadata": {
    "collapsed": false
   },
   "outputs": [
    {
     "name": "stdout",
     "output_type": "stream",
     "text": [
      "4037913\n"
     ]
    }
   ],
   "source": [
    "#2、用递归和非递归分别实现函数求1!+2!+3!+...+n!，主程序以n=10分别调用。（20分）\n",
    "def sum(num):\n",
    "    total = 0\n",
    "    cheng = 1\n",
    "    for i in range(num):\n",
    "        cheng *= (i+1)\n",
    "        total += cheng\n",
    "    print(total)\n",
    "\n",
    "sum(10)"
   ]
  },
  {
   "cell_type": "code",
   "execution_count": 11,
   "metadata": {
    "collapsed": true
   },
   "outputs": [],
   "source": [
    "#3、北京车牌号的一般形式为：“京X-YYYYY”，其中X为字母，Y为字母或者数字，\n",
    "#字母不能为I或者O，数字只能0-9之间。\n",
    "#请编写程序模拟选号过程：一次可以随机生成10个车牌号（不能有重复），\n",
    "#依次将其编号为0-9，显示给用户。（20分）\n",
    "import random\n",
    "\n",
    "def number():\n",
    "    a = chr(random.randint(65,90))\n",
    "    b = random.randint(0,9)\n",
    "    c = random.randint(0,9)\n",
    "    d = random.randint(0,9)\n",
    "    e = random.randint(0,9)\n",
    "    f = random.randint(0,9)\n",
    "    \n",
    "    while a ==73|| a==80':\n",
    "        a = chr(random.randint(65,90))\n",
    "        if a!='I'&&a!='O':\n",
    "            break\n",
    "        \n",
    "    print('   车牌号为：','京',a, '-', b, c, d, e, f,sep = '')\n",
    "    \n",
    "for i in range(10):\n",
    "    print('编号为:',i,end = '')\n",
    "    number()\n"
   ]
  },
  {
   "cell_type": "code",
   "execution_count": 2,
   "metadata": {
    "collapsed": false
   },
   "outputs": [
    {
     "ename": "SyntaxError",
     "evalue": "invalid syntax (<ipython-input-2-1876a8b4794a>, line 14)",
     "output_type": "error",
     "traceback": [
      "\u001b[0;36m  File \u001b[0;32m\"<ipython-input-2-1876a8b4794a>\"\u001b[0;36m, line \u001b[0;32m14\u001b[0m\n\u001b[0;31m    if a ==73|| a==80':\u001b[0m\n\u001b[0m              ^\u001b[0m\n\u001b[0;31mSyntaxError\u001b[0m\u001b[0;31m:\u001b[0m invalid syntax\n"
     ]
    }
   ],
   "source": [
    "#4、两个向量间的距离可定义为两个向量间的夹角余弦值，给定三个向量，求向量间距离的最小值。\n",
    "#三个向量为：[1,2,3,4],[4,5,6,7],[7,8,9,10]（20分）\n",
    "\n",
    "\n",
    "def findset(word,numbers):\n",
    "    if word not in numbers:\n",
    "        return -1\n",
    "    else:\n",
    "        k=0\n",
    "        for i in numbers:\n",
    "            k+=1\n",
    "            if word==i:\n",
    "                break;\n",
    "        print(\"the position of \",word,\"is \",k)\n",
    "        \n",
    "words = []\n",
    "n = int(input('please enter number of the words : '))\n",
    "for i in range(n):\n",
    "    word = input('please enter a word')\n",
    "    words.append(word)\n",
    "word=input(\"please enter the word you want to find : \")\n",
    "findset(word,words)"
   ]
  },
  {
   "cell_type": "code",
   "execution_count": null,
   "metadata": {
    "collapsed": true
   },
   "outputs": [],
   "source": []
  }
 ],
 "metadata": {
  "kernelspec": {
   "display_name": "Python 3",
   "language": "python",
   "name": "python3"
  },
  "language_info": {
   "codemirror_mode": {
    "name": "ipython",
    "version": 3
   },
   "file_extension": ".py",
   "mimetype": "text/x-python",
   "name": "python",
   "nbconvert_exporter": "python",
   "pygments_lexer": "ipython3",
   "version": "3.6.0"
  }
 },
 "nbformat": 4,
 "nbformat_minor": 2
}
